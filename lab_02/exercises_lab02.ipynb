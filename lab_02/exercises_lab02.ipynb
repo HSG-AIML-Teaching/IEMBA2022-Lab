{
  "cells": [
    {
      "cell_type": "markdown",
      "metadata": {
        "id": "Y6aC0RpQzO1v"
      },
      "source": [
        "<img align=\"center\" style=\"max-width: 1000px\" src=\"https://raw.githubusercontent.com/HSG-AIML-Teaching/IEMBA2022-Lab/main/banner.png\">"
      ]
    },
    {
      "cell_type": "markdown",
      "metadata": {
        "id": "5aowSIiKzO1x"
      },
      "source": [
        "<img align=\"right\" style=\"max-width: 200px; height: auto\" src=\"https://raw.githubusercontent.com/HSG-AIML-Teaching/IEMBA2022-Lab/main/lab_02/hsg_logo.png\">\n",
        "\n",
        "##  Exercise 02 - \"Python 102: Numerical Math, Plotting & Images\"\n",
        "\n",
        "IEMBA 8/9 - \"Coding and Artificial Intelligence\", University of St. Gallen"
      ]
    },
    {
      "cell_type": "markdown",
      "metadata": {
        "id": "pYr8VK1SzO1y"
      },
      "source": [
        "The goal of the exercises below is to deepen your understanding of the Python language. In this Notebook, exercises are focused on our Python 101 Notebook. Feel free to use that Notebook as a reference, to search for help online, and to work together with others. If you have questions, please feel free to shout out!\n",
        "\n",
        "Please work on these exercises during the corresponding exercise session. We expect you to solve the **three mandatory exercises**, which are highlighted. All other exercises are optional and are not required to be solved! "
      ]
    },
    {
      "cell_type": "markdown",
      "metadata": {
        "id": "R0wm1bZgAhsJ"
      },
      "source": [
        "## Numpy Arrays"
      ]
    },
    {
      "cell_type": "code",
      "execution_count": null,
      "metadata": {
        "id": "grzF_j-BzO11"
      },
      "outputs": [],
      "source": [
        "import numpy as np  # run this cell before starting with the exercises below"
      ]
    },
    {
      "cell_type": "markdown",
      "metadata": {
        "id": "OQAm8_ZtAhsJ"
      },
      "source": [
        "**1. MANDATORY: Write a single Python command that adds `3` to every element of array `a`.**"
      ]
    },
    {
      "cell_type": "code",
      "execution_count": null,
      "metadata": {
        "id": "gwkVym0kAhsJ"
      },
      "outputs": [],
      "source": [
        "a = np.array([1, 2, 3, 4, 5])\n",
        "\n",
        "# ***************************************************\n",
        "# INSERT YOUR SOLUTION CODE HERE\n",
        "# ***************************************************"
      ]
    },
    {
      "cell_type": "markdown",
      "metadata": {
        "id": "LZYEYTeqAhsJ"
      },
      "source": [
        "**2. MANDATORY: Write a single Python command that creates a 2d-array that looks like the following matrix:**\n",
        "\n",
        "    1 0 0 \n",
        "    0 1 0\n",
        "    0 0 1\n",
        "    \n",
        "> Hint: you can use `np.array(l)` where `l` is a list to create the matrix. What would `l` look like?"
      ]
    },
    {
      "cell_type": "code",
      "execution_count": null,
      "metadata": {
        "id": "-zLwrMQQAhsJ"
      },
      "outputs": [],
      "source": [
        "# ***************************************************\n",
        "# INSERT YOUR SOLUTION CODE HERE\n",
        "# ***************************************************"
      ]
    },
    {
      "cell_type": "markdown",
      "metadata": {
        "id": "q5U_zY9dzO18"
      },
      "source": [
        "**3. Reshape a vector into a matrix.**\n",
        "> Create a 1-dimensional array `a` with length 16 that contains the sequence of numbers (integer or floats are fine) from 1 to 16 and reshape it into a 4x4 matrix. Hint: keep in mind that the functions `np.arange` and `reshape` exist..."
      ]
    },
    {
      "cell_type": "code",
      "execution_count": null,
      "metadata": {
        "id": "irnfneMYzO18"
      },
      "outputs": [],
      "source": [
        "# ***************************************************\n",
        "# INSERT YOUR SOLUTION CODE HERE\n",
        "# ***************************************************"
      ]
    },
    {
      "cell_type": "markdown",
      "metadata": {
        "id": "2kwTEQPRzO1-"
      },
      "source": [
        "## Dealing with Image Data"
      ]
    },
    {
      "cell_type": "code",
      "execution_count": null,
      "metadata": {
        "id": "UqoQZX4nzO1-"
      },
      "outputs": [],
      "source": [
        "# run this cell before starting with the exercises below\n",
        "import matplotlib.pyplot as plt\n",
        "from PIL import Image\n",
        "from urllib.request import urlopen  \n",
        "image = np.asarray(Image.open(urlopen(\"https://upload.wikimedia.org/wikipedia/commons/thumb/0/0e/Trogenerbahn.jpg/1920px-Trogenerbahn.jpg\")))"
      ]
    },
    {
      "cell_type": "markdown",
      "metadata": {
        "id": "azIYphEFzO1-"
      },
      "source": [
        "**1. MANDATORY: Plotting Image Data**\n",
        "\n",
        "> Display `image` using `plt.imshow`. Then, define a second image array, `crop`, that will roughly crop the tram. Keep in mind that the dimensionality of images is `[rows, columns, channels]`. Display `crop`."
      ]
    },
    {
      "cell_type": "code",
      "execution_count": null,
      "metadata": {
        "id": "l07Shx-WzO2A"
      },
      "outputs": [],
      "source": [
        "# ***************************************************\n",
        "# INSERT YOUR SOLUTION CODE HERE\n",
        "# ***************************************************"
      ]
    },
    {
      "cell_type": "markdown",
      "metadata": {
        "id": "sZJB4ziWzO2A"
      },
      "source": [
        "**2. Manipulating Image Data**\n",
        "\n",
        "> The tram in the image is red. Modify the image in such a way that the tram appears green instead. Be creative! Never mind if background objects appear in unnatural colors."
      ]
    },
    {
      "cell_type": "code",
      "execution_count": null,
      "metadata": {
        "id": "LThvnVWFzO2A"
      },
      "outputs": [],
      "source": [
        "# ***************************************************\n",
        "# INSERT YOUR SOLUTION CODE HERE\n",
        "# ***************************************************"
      ]
    },
    {
      "cell_type": "code",
      "execution_count": null,
      "metadata": {
        "id": "4xzYYoqQzO2A"
      },
      "outputs": [],
      "source": [
        ""
      ]
    }
  ],
  "metadata": {
    "kernelspec": {
      "display_name": "Python 3",
      "language": "python",
      "name": "python3"
    },
    "language_info": {
      "codemirror_mode": {
        "name": "ipython",
        "version": 3
      },
      "file_extension": ".py",
      "mimetype": "text/x-python",
      "name": "python",
      "nbconvert_exporter": "python",
      "pygments_lexer": "ipython3",
      "version": "3.8.3-final"
    },
    "colab": {
      "name": "exercises_lab02.ipynb",
      "provenance": []
    }
  },
  "nbformat": 4,
  "nbformat_minor": 0
}